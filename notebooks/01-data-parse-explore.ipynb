{
  "nbformat": 4,
  "nbformat_minor": 0,
  "metadata": {
    "colab": {
      "name": "01-data-parse-explore.ipynb",
      "provenance": [],
      "collapsed_sections": []
    },
    "kernelspec": {
      "name": "python3",
      "display_name": "Python 3"
    },
    "language_info": {
      "name": "python"
    }
  },
  "cells": [
    {
      "cell_type": "markdown",
      "source": [
        "# Data Exploration, Parsing and Splitting"
      ],
      "metadata": {
        "id": "mW97pWBh_2ZN"
      }
    },
    {
      "cell_type": "markdown",
      "source": [
        "## Mount Google Drive for Content"
      ],
      "metadata": {
        "id": "wneQaP9k_6dQ"
      }
    },
    {
      "cell_type": "code",
      "source": [
        "from google.colab import drive\n",
        "\n",
        "drive.mount('/content/drive')"
      ],
      "metadata": {
        "colab": {
          "base_uri": "https://localhost:8080/"
        },
        "id": "xrqz2sJkQpNx",
        "outputId": "ada59b5d-b38f-4956-ecbe-4fa0b815a180"
      },
      "execution_count": null,
      "outputs": [
        {
          "output_type": "stream",
          "name": "stdout",
          "text": [
            "Drive already mounted at /content/drive; to attempt to forcibly remount, call drive.mount(\"/content/drive\", force_remount=True).\n"
          ]
        }
      ]
    },
    {
      "cell_type": "markdown",
      "source": [
        "## Imports"
      ],
      "metadata": {
        "id": "jGDnk8vrAAXw"
      }
    },
    {
      "cell_type": "code",
      "source": [
        "import collections\n",
        "import json\n",
        "import matplotlib.pyplot as plt\n",
        "import numpy as np\n",
        "import os\n",
        "import pandas as pd\n",
        "\n",
        "from sklearn.model_selection import train_test_split\n",
        "\n",
        "%matplotlib inline"
      ],
      "metadata": {
        "id": "ueiljLctQ8NB"
      },
      "execution_count": null,
      "outputs": []
    },
    {
      "cell_type": "code",
      "source": [
        "DATA_DIR = \"/content/drive/MyDrive/neural-re-data\"\n",
        "RAW_DATA_DIR = os.path.join(DATA_DIR, \"raw_data\")"
      ],
      "metadata": {
        "id": "JSUY_9CIRFO-"
      },
      "execution_count": null,
      "outputs": []
    },
    {
      "cell_type": "markdown",
      "source": [
        "## Parse Raw Data\n",
        "\n",
        "Extract raw data provided in a combination of `.txt` and `.ann` files into a consolidated SpaCy like input format."
      ],
      "metadata": {
        "id": "UgxhMaTCSyVg"
      }
    },
    {
      "cell_type": "code",
      "source": [
        "def parse_text(file_path):\n",
        "  with open(file_path, \"r\") as ftxt:\n",
        "    text = ftxt.read()\n",
        "  return text\n",
        "\n",
        "def parse_entity_and_relation(file_path, text):\n",
        "  entity_dict, recs = {}, []\n",
        "  with open(file_path, \"r\") as fann:\n",
        "    for line in fann:\n",
        "      line = line.strip()\n",
        "      if line.startswith(\"T\"):\n",
        "        # entities\n",
        "        eid, etype_grp, espan = line.split(\"\\t\")\n",
        "        etype, estart, eend = etype_grp.split()\n",
        "        estart = int(estart)\n",
        "        eend = int(eend)\n",
        "        entity_dict[eid] = (etype, estart, eend, espan)\n",
        "      elif line.startswith(\"R\"):\n",
        "        # relations\n",
        "        rid, rgrp = line.split(\"\\t\")\n",
        "        rtype, rsub_grp, robj_grp = rgrp.split()\n",
        "        if rsub_grp.startswith(\"Arg1\"):\n",
        "          rsub_type, rsub_start, rsub_end, _ = entity_dict[rsub_grp.split(\":\")[1]]\n",
        "          robj_type, robj_start, robj_end, _ = entity_dict[robj_grp.split(\":\")[1]]\n",
        "        else:\n",
        "          rsub_type, rsub_start, rsub_end, _ = entity_dict[robj_grp.split(\":\")[1]]\n",
        "          robj_type, robj_start, robj_end, _ = entity_dict[rsub_grp.split(\":\")[1]]\n",
        "        \n",
        "        # print(text[rsub_start : rsub_end], rtype, text[robj_start : robj_end])\n",
        "        rec = {\n",
        "          \"text\": text,\n",
        "          \"h\": {\n",
        "            \"type\": rsub_type,\n",
        "            \"start\": rsub_start,\n",
        "            \"end\": rsub_end,\n",
        "            \"span\": text[rsub_start : rsub_end],\n",
        "          },\n",
        "          \"t\": {\n",
        "            \"type\": robj_type,\n",
        "            \"start\": robj_start,\n",
        "            \"end\": robj_end,\n",
        "            \"span\": text[robj_start : robj_end],\n",
        "          },\n",
        "          \"r\": rtype\n",
        "        }\n",
        "        recs.append(rec)\n",
        "      else:\n",
        "        pass\n",
        "  return recs"
      ],
      "metadata": {
        "id": "5iNWW0MSS8A3"
      },
      "execution_count": null,
      "outputs": []
    },
    {
      "cell_type": "code",
      "source": [
        "txt_files = [fn for fn in os.listdir(os.path.join(DATA_DIR, \"raw_data\")) if fn.endswith(\".txt\")]\n",
        "ann_files = [fn.replace(\".txt\", \".ann\") for fn in txt_files]\n",
        "\n",
        "for txt_file, ann_file in zip(txt_files, ann_files):\n",
        "  text = parse_text(os.path.join(RAW_DATA_DIR, txt_file))\n",
        "  recs = parse_entity_and_relation(os.path.join(RAW_DATA_DIR, ann_file), text)\n",
        "  print(\"number of entries:\", len(recs))\n",
        "  print(json.dumps(recs[0], indent=2))\n",
        "  break"
      ],
      "metadata": {
        "colab": {
          "base_uri": "https://localhost:8080/"
        },
        "id": "UOm-jezzROWr",
        "outputId": "8587a32d-95b5-47a4-c871-b151d5e8d86b"
      },
      "execution_count": null,
      "outputs": [
        {
          "output_type": "stream",
          "name": "stdout",
          "text": [
            "number of entries: 19\n",
            "{\n",
            "  \"text\": \"Background maintenance is a frequent element of video surveillance systems. We develop Wallflower, a three-component system for background maintenance: the pixel-level component performs Wiener filtering to make probabilistic predictions of the expected background; the region-level component fills in homogeneous regions of foreground objects; and the frame-level component detects sudden, global changes in the image and swaps in better approximations of the background. We compare our system with 8 other background subtraction algorithms. Wallflower is shown to outperform previous algorithms by handling a greater set of the difficult situations that can occur. Finally, we analyze the experimental results and propose normative principles for background maintenance.\",\n",
            "  \"h\": {\n",
            "    \"type\": \"Task\",\n",
            "    \"start\": 0,\n",
            "    \"end\": 22,\n",
            "    \"span\": \"Background maintenance\"\n",
            "  },\n",
            "  \"t\": {\n",
            "    \"type\": \"Task\",\n",
            "    \"start\": 48,\n",
            "    \"end\": 74,\n",
            "    \"span\": \"video surveillance systems\"\n",
            "  },\n",
            "  \"r\": \"PART-OF\"\n",
            "}\n"
          ]
        }
      ]
    },
    {
      "cell_type": "markdown",
      "source": [
        "## Basic Counts"
      ],
      "metadata": {
        "id": "ReDDgqB4WVxt"
      }
    },
    {
      "cell_type": "code",
      "source": [
        "entity_counter = collections.Counter()\n",
        "relation_counter = collections.Counter()\n",
        "for txt_file, ann_file in zip(txt_files, ann_files):\n",
        "  text = parse_text(os.path.join(RAW_DATA_DIR, txt_file))\n",
        "  recs = parse_entity_and_relation(os.path.join(RAW_DATA_DIR, ann_file), text)\n",
        "  for rec in recs:\n",
        "    entity_counter[rec[\"h\"][\"type\"]] += 1\n",
        "    entity_counter[rec[\"t\"][\"type\"]] += 1\n",
        "    relation_counter[rec[\"r\"]] += 1"
      ],
      "metadata": {
        "id": "b_rsGJwXRQBy"
      },
      "execution_count": null,
      "outputs": []
    },
    {
      "cell_type": "code",
      "source": [
        "ent_df = pd.DataFrame(entity_counter.most_common(len(entity_counter)),\n",
        "                      columns=[\"etype\", \"count\"])\n",
        "ent_df.head(len(entity_counter))"
      ],
      "metadata": {
        "colab": {
          "base_uri": "https://localhost:8080/",
          "height": 238
        },
        "id": "iY4sN4WzXkYX",
        "outputId": "ab9fc0a1-6fd8-4968-b816-0f3e885ef233"
      },
      "execution_count": null,
      "outputs": [
        {
          "output_type": "execute_result",
          "data": {
            "text/plain": [
              "                 etype  count\n",
              "0               Method   3739\n",
              "1              Generic   3021\n",
              "2  OtherScientificTerm   2496\n",
              "3                 Task   2037\n",
              "4             Material    991\n",
              "5               Metric    504"
            ],
            "text/html": [
              "\n",
              "  <div id=\"df-9c562780-d6bc-40b2-bf48-740280e663d4\">\n",
              "    <div class=\"colab-df-container\">\n",
              "      <div>\n",
              "<style scoped>\n",
              "    .dataframe tbody tr th:only-of-type {\n",
              "        vertical-align: middle;\n",
              "    }\n",
              "\n",
              "    .dataframe tbody tr th {\n",
              "        vertical-align: top;\n",
              "    }\n",
              "\n",
              "    .dataframe thead th {\n",
              "        text-align: right;\n",
              "    }\n",
              "</style>\n",
              "<table border=\"1\" class=\"dataframe\">\n",
              "  <thead>\n",
              "    <tr style=\"text-align: right;\">\n",
              "      <th></th>\n",
              "      <th>etype</th>\n",
              "      <th>count</th>\n",
              "    </tr>\n",
              "  </thead>\n",
              "  <tbody>\n",
              "    <tr>\n",
              "      <th>0</th>\n",
              "      <td>Method</td>\n",
              "      <td>3739</td>\n",
              "    </tr>\n",
              "    <tr>\n",
              "      <th>1</th>\n",
              "      <td>Generic</td>\n",
              "      <td>3021</td>\n",
              "    </tr>\n",
              "    <tr>\n",
              "      <th>2</th>\n",
              "      <td>OtherScientificTerm</td>\n",
              "      <td>2496</td>\n",
              "    </tr>\n",
              "    <tr>\n",
              "      <th>3</th>\n",
              "      <td>Task</td>\n",
              "      <td>2037</td>\n",
              "    </tr>\n",
              "    <tr>\n",
              "      <th>4</th>\n",
              "      <td>Material</td>\n",
              "      <td>991</td>\n",
              "    </tr>\n",
              "    <tr>\n",
              "      <th>5</th>\n",
              "      <td>Metric</td>\n",
              "      <td>504</td>\n",
              "    </tr>\n",
              "  </tbody>\n",
              "</table>\n",
              "</div>\n",
              "      <button class=\"colab-df-convert\" onclick=\"convertToInteractive('df-9c562780-d6bc-40b2-bf48-740280e663d4')\"\n",
              "              title=\"Convert this dataframe to an interactive table.\"\n",
              "              style=\"display:none;\">\n",
              "        \n",
              "  <svg xmlns=\"http://www.w3.org/2000/svg\" height=\"24px\"viewBox=\"0 0 24 24\"\n",
              "       width=\"24px\">\n",
              "    <path d=\"M0 0h24v24H0V0z\" fill=\"none\"/>\n",
              "    <path d=\"M18.56 5.44l.94 2.06.94-2.06 2.06-.94-2.06-.94-.94-2.06-.94 2.06-2.06.94zm-11 1L8.5 8.5l.94-2.06 2.06-.94-2.06-.94L8.5 2.5l-.94 2.06-2.06.94zm10 10l.94 2.06.94-2.06 2.06-.94-2.06-.94-.94-2.06-.94 2.06-2.06.94z\"/><path d=\"M17.41 7.96l-1.37-1.37c-.4-.4-.92-.59-1.43-.59-.52 0-1.04.2-1.43.59L10.3 9.45l-7.72 7.72c-.78.78-.78 2.05 0 2.83L4 21.41c.39.39.9.59 1.41.59.51 0 1.02-.2 1.41-.59l7.78-7.78 2.81-2.81c.8-.78.8-2.07 0-2.86zM5.41 20L4 18.59l7.72-7.72 1.47 1.35L5.41 20z\"/>\n",
              "  </svg>\n",
              "      </button>\n",
              "      \n",
              "  <style>\n",
              "    .colab-df-container {\n",
              "      display:flex;\n",
              "      flex-wrap:wrap;\n",
              "      gap: 12px;\n",
              "    }\n",
              "\n",
              "    .colab-df-convert {\n",
              "      background-color: #E8F0FE;\n",
              "      border: none;\n",
              "      border-radius: 50%;\n",
              "      cursor: pointer;\n",
              "      display: none;\n",
              "      fill: #1967D2;\n",
              "      height: 32px;\n",
              "      padding: 0 0 0 0;\n",
              "      width: 32px;\n",
              "    }\n",
              "\n",
              "    .colab-df-convert:hover {\n",
              "      background-color: #E2EBFA;\n",
              "      box-shadow: 0px 1px 2px rgba(60, 64, 67, 0.3), 0px 1px 3px 1px rgba(60, 64, 67, 0.15);\n",
              "      fill: #174EA6;\n",
              "    }\n",
              "\n",
              "    [theme=dark] .colab-df-convert {\n",
              "      background-color: #3B4455;\n",
              "      fill: #D2E3FC;\n",
              "    }\n",
              "\n",
              "    [theme=dark] .colab-df-convert:hover {\n",
              "      background-color: #434B5C;\n",
              "      box-shadow: 0px 1px 3px 1px rgba(0, 0, 0, 0.15);\n",
              "      filter: drop-shadow(0px 1px 2px rgba(0, 0, 0, 0.3));\n",
              "      fill: #FFFFFF;\n",
              "    }\n",
              "  </style>\n",
              "\n",
              "      <script>\n",
              "        const buttonEl =\n",
              "          document.querySelector('#df-9c562780-d6bc-40b2-bf48-740280e663d4 button.colab-df-convert');\n",
              "        buttonEl.style.display =\n",
              "          google.colab.kernel.accessAllowed ? 'block' : 'none';\n",
              "\n",
              "        async function convertToInteractive(key) {\n",
              "          const element = document.querySelector('#df-9c562780-d6bc-40b2-bf48-740280e663d4');\n",
              "          const dataTable =\n",
              "            await google.colab.kernel.invokeFunction('convertToInteractive',\n",
              "                                                     [key], {});\n",
              "          if (!dataTable) return;\n",
              "\n",
              "          const docLinkHtml = 'Like what you see? Visit the ' +\n",
              "            '<a target=\"_blank\" href=https://colab.research.google.com/notebooks/data_table.ipynb>data table notebook</a>'\n",
              "            + ' to learn more about interactive tables.';\n",
              "          element.innerHTML = '';\n",
              "          dataTable['output_type'] = 'display_data';\n",
              "          await google.colab.output.renderOutput(dataTable, element);\n",
              "          const docLink = document.createElement('div');\n",
              "          docLink.innerHTML = docLinkHtml;\n",
              "          element.appendChild(docLink);\n",
              "        }\n",
              "      </script>\n",
              "    </div>\n",
              "  </div>\n",
              "  "
            ]
          },
          "metadata": {},
          "execution_count": 25
        }
      ]
    },
    {
      "cell_type": "code",
      "source": [
        "_ = ent_df.plot.bar(x=\"etype\", y=\"count\", rot=90)"
      ],
      "metadata": {
        "colab": {
          "base_uri": "https://localhost:8080/",
          "height": 367
        },
        "id": "fT2Up8d3ZKqA",
        "outputId": "638e4f61-b11a-452a-c84a-04e9258897dc"
      },
      "execution_count": null,
      "outputs": [
        {
          "output_type": "display_data",
          "data": {
            "text/plain": [
              "<Figure size 432x288 with 1 Axes>"
            ],
            "image/png": "[encoded data removed]"
          },
          "metadata": {
            "needs_background": "light"
          }
        }
      ]
    },
    {
      "cell_type": "code",
      "source": [
        "rel_df = pd.DataFrame(relation_counter.most_common(len(relation_counter)),\n",
        "                      columns=[\"rtype\", \"count\"])\n",
        "rel_df.head(len(relation_counter))"
      ],
      "metadata": {
        "colab": {
          "base_uri": "https://localhost:8080/",
          "height": 300
        },
        "id": "HCZvNJW_9TMN",
        "outputId": "aee204fc-e327-4f0d-913f-31eec3a389b7"
      },
      "execution_count": null,
      "outputs": [
        {
          "output_type": "execute_result",
          "data": {
            "text/plain": [
              "          rtype  count\n",
              "0      USED-FOR   2437\n",
              "1         COREF   1675\n",
              "2   CONJUNCTION    583\n",
              "3    HYPONYM-OF    477\n",
              "4  EVALUATE-FOR    454\n",
              "5       PART-OF    270\n",
              "6    FEATURE-OF    264\n",
              "7       COMPARE    234"
            ],
            "text/html": [
              "\n",
              "  <div id=\"df-43b0f28c-1eb5-47be-9818-20d0ce0ae2d3\">\n",
              "    <div class=\"colab-df-container\">\n",
              "      <div>\n",
              "<style scoped>\n",
              "    .dataframe tbody tr th:only-of-type {\n",
              "        vertical-align: middle;\n",
              "    }\n",
              "\n",
              "    .dataframe tbody tr th {\n",
              "        vertical-align: top;\n",
              "    }\n",
              "\n",
              "    .dataframe thead th {\n",
              "        text-align: right;\n",
              "    }\n",
              "</style>\n",
              "<table border=\"1\" class=\"dataframe\">\n",
              "  <thead>\n",
              "    <tr style=\"text-align: right;\">\n",
              "      <th></th>\n",
              "      <th>rtype</th>\n",
              "      <th>count</th>\n",
              "    </tr>\n",
              "  </thead>\n",
              "  <tbody>\n",
              "    <tr>\n",
              "      <th>0</th>\n",
              "      <td>USED-FOR</td>\n",
              "      <td>2437</td>\n",
              "    </tr>\n",
              "    <tr>\n",
              "      <th>1</th>\n",
              "      <td>COREF</td>\n",
              "      <td>1675</td>\n",
              "    </tr>\n",
              "    <tr>\n",
              "      <th>2</th>\n",
              "      <td>CONJUNCTION</td>\n",
              "      <td>583</td>\n",
              "    </tr>\n",
              "    <tr>\n",
              "      <th>3</th>\n",
              "      <td>HYPONYM-OF</td>\n",
              "      <td>477</td>\n",
              "    </tr>\n",
              "    <tr>\n",
              "      <th>4</th>\n",
              "      <td>EVALUATE-FOR</td>\n",
              "      <td>454</td>\n",
              "    </tr>\n",
              "    <tr>\n",
              "      <th>5</th>\n",
              "      <td>PART-OF</td>\n",
              "      <td>270</td>\n",
              "    </tr>\n",
              "    <tr>\n",
              "      <th>6</th>\n",
              "      <td>FEATURE-OF</td>\n",
              "      <td>264</td>\n",
              "    </tr>\n",
              "    <tr>\n",
              "      <th>7</th>\n",
              "      <td>COMPARE</td>\n",
              "      <td>234</td>\n",
              "    </tr>\n",
              "  </tbody>\n",
              "</table>\n",
              "</div>\n",
              "      <button class=\"colab-df-convert\" onclick=\"convertToInteractive('df-43b0f28c-1eb5-47be-9818-20d0ce0ae2d3')\"\n",
              "              title=\"Convert this dataframe to an interactive table.\"\n",
              "              style=\"display:none;\">\n",
              "        \n",
              "  <svg xmlns=\"http://www.w3.org/2000/svg\" height=\"24px\"viewBox=\"0 0 24 24\"\n",
              "       width=\"24px\">\n",
              "    <path d=\"M0 0h24v24H0V0z\" fill=\"none\"/>\n",
              "    <path d=\"M18.56 5.44l.94 2.06.94-2.06 2.06-.94-2.06-.94-.94-2.06-.94 2.06-2.06.94zm-11 1L8.5 8.5l.94-2.06 2.06-.94-2.06-.94L8.5 2.5l-.94 2.06-2.06.94zm10 10l.94 2.06.94-2.06 2.06-.94-2.06-.94-.94-2.06-.94 2.06-2.06.94z\"/><path d=\"M17.41 7.96l-1.37-1.37c-.4-.4-.92-.59-1.43-.59-.52 0-1.04.2-1.43.59L10.3 9.45l-7.72 7.72c-.78.78-.78 2.05 0 2.83L4 21.41c.39.39.9.59 1.41.59.51 0 1.02-.2 1.41-.59l7.78-7.78 2.81-2.81c.8-.78.8-2.07 0-2.86zM5.41 20L4 18.59l7.72-7.72 1.47 1.35L5.41 20z\"/>\n",
              "  </svg>\n",
              "      </button>\n",
              "      \n",
              "  <style>\n",
              "    .colab-df-container {\n",
              "      display:flex;\n",
              "      flex-wrap:wrap;\n",
              "      gap: 12px;\n",
              "    }\n",
              "\n",
              "    .colab-df-convert {\n",
              "      background-color: #E8F0FE;\n",
              "      border: none;\n",
              "      border-radius: 50%;\n",
              "      cursor: pointer;\n",
              "      display: none;\n",
              "      fill: #1967D2;\n",
              "      height: 32px;\n",
              "      padding: 0 0 0 0;\n",
              "      width: 32px;\n",
              "    }\n",
              "\n",
              "    .colab-df-convert:hover {\n",
              "      background-color: #E2EBFA;\n",
              "      box-shadow: 0px 1px 2px rgba(60, 64, 67, 0.3), 0px 1px 3px 1px rgba(60, 64, 67, 0.15);\n",
              "      fill: #174EA6;\n",
              "    }\n",
              "\n",
              "    [theme=dark] .colab-df-convert {\n",
              "      background-color: #3B4455;\n",
              "      fill: #D2E3FC;\n",
              "    }\n",
              "\n",
              "    [theme=dark] .colab-df-convert:hover {\n",
              "      background-color: #434B5C;\n",
              "      box-shadow: 0px 1px 3px 1px rgba(0, 0, 0, 0.15);\n",
              "      filter: drop-shadow(0px 1px 2px rgba(0, 0, 0, 0.3));\n",
              "      fill: #FFFFFF;\n",
              "    }\n",
              "  </style>\n",
              "\n",
              "      <script>\n",
              "        const buttonEl =\n",
              "          document.querySelector('#df-43b0f28c-1eb5-47be-9818-20d0ce0ae2d3 button.colab-df-convert');\n",
              "        buttonEl.style.display =\n",
              "          google.colab.kernel.accessAllowed ? 'block' : 'none';\n",
              "\n",
              "        async function convertToInteractive(key) {\n",
              "          const element = document.querySelector('#df-43b0f28c-1eb5-47be-9818-20d0ce0ae2d3');\n",
              "          const dataTable =\n",
              "            await google.colab.kernel.invokeFunction('convertToInteractive',\n",
              "                                                     [key], {});\n",
              "          if (!dataTable) return;\n",
              "\n",
              "          const docLinkHtml = 'Like what you see? Visit the ' +\n",
              "            '<a target=\"_blank\" href=https://colab.research.google.com/notebooks/data_table.ipynb>data table notebook</a>'\n",
              "            + ' to learn more about interactive tables.';\n",
              "          element.innerHTML = '';\n",
              "          dataTable['output_type'] = 'display_data';\n",
              "          await google.colab.output.renderOutput(dataTable, element);\n",
              "          const docLink = document.createElement('div');\n",
              "          docLink.innerHTML = docLinkHtml;\n",
              "          element.appendChild(docLink);\n",
              "        }\n",
              "      </script>\n",
              "    </div>\n",
              "  </div>\n",
              "  "
            ]
          },
          "metadata": {},
          "execution_count": 20
        }
      ]
    },
    {
      "cell_type": "code",
      "source": [
        "_ = rel_df.plot.bar(x=\"rtype\", y=\"count\", rot=90)"
      ],
      "metadata": {
        "colab": {
          "base_uri": "https://localhost:8080/",
          "height": 343
        },
        "id": "3NuIsc479qM1",
        "outputId": "62d09f9c-5928-452a-d615-1384a523f9a7"
      },
      "execution_count": null,
      "outputs": [
        {
          "output_type": "display_data",
          "data": {
            "text/plain": [
              "<Figure size 432x288 with 1 Axes>"
            ],
            "image/png": "[encoded data removed]"
          },
          "metadata": {
            "needs_background": "light"
          }
        }
      ]
    },
    {
      "cell_type": "markdown",
      "source": [
        "## Text (Token) Lengths\n",
        "\n",
        "BERT and BERT-like models allow a maximum token length of 512 tokens, and our maximum token size is 316. So we won't have to drop anything even considering sub-word tokenization, standard and additional tokens (for some of our models)"
      ],
      "metadata": {
        "id": "0QVk-6vnauJy"
      }
    },
    {
      "cell_type": "code",
      "source": [
        "list_num_tokens = []\n",
        "for txt_file, ann_file in zip(txt_files, ann_files):\n",
        "  text = parse_text(os.path.join(RAW_DATA_DIR, txt_file))\n",
        "  list_num_tokens.append(len(text.split()))"
      ],
      "metadata": {
        "id": "Jakikoxfaawm"
      },
      "execution_count": null,
      "outputs": []
    },
    {
      "cell_type": "code",
      "source": [
        "np.percentile(np.array(list_num_tokens), [75, 80, 90, 95, 99, 100])"
      ],
      "metadata": {
        "colab": {
          "base_uri": "https://localhost:8080/"
        },
        "id": "yjo0cHXKbFfX",
        "outputId": "e5f5addf-2d95-4acc-9dd6-212ccda14b0c"
      },
      "execution_count": null,
      "outputs": [
        {
          "output_type": "execute_result",
          "data": {
            "text/plain": [
              "array([150.  , 158.2 , 180.  , 197.  , 238.12, 316.  ])"
            ]
          },
          "metadata": {},
          "execution_count": 12
        }
      ]
    },
    {
      "cell_type": "code",
      "source": [
        "plt.hist(list_num_tokens, bins=10)\n",
        "_ = plt.show()"
      ],
      "metadata": {
        "colab": {
          "base_uri": "https://localhost:8080/",
          "height": 265
        },
        "id": "F7XzMKg3bARG",
        "outputId": "5162c695-a48d-41d4-f90c-7abe3d57fae4"
      },
      "execution_count": null,
      "outputs": [
        {
          "output_type": "display_data",
          "data": {
            "text/plain": [
              "<Figure size 432x288 with 1 Axes>"
            ],
            "image/png": "[encoded data removed]"
          },
          "metadata": {
            "needs_background": "light"
          }
        }
      ]
    },
    {
      "cell_type": "markdown",
      "source": [
        "## Data Splitting"
      ],
      "metadata": {
        "id": "XAYPVK6ob1om"
      }
    },
    {
      "cell_type": "code",
      "source": [
        "data, labels = [], []\n",
        "for txt_file, ann_file in zip(txt_files, ann_files):\n",
        "  text = parse_text(os.path.join(RAW_DATA_DIR, txt_file))\n",
        "  recs = parse_entity_and_relation(os.path.join(RAW_DATA_DIR, ann_file), text)\n",
        "  data.extend(recs)\n",
        "  labels.extend([rec[\"r\"] for rec in recs])\n",
        "\n",
        "len(data), len(labels)"
      ],
      "metadata": {
        "colab": {
          "base_uri": "https://localhost:8080/"
        },
        "id": "nQUmxadEbTb4",
        "outputId": "1866d619-d43b-4589-83ea-cb23ca442a71"
      },
      "execution_count": null,
      "outputs": [
        {
          "output_type": "execute_result",
          "data": {
            "text/plain": [
              "(6394, 6394)"
            ]
          },
          "metadata": {},
          "execution_count": 14
        }
      ]
    },
    {
      "cell_type": "code",
      "source": [
        "data_tv, data_test, labels_tv, labels_test = train_test_split(\n",
        "    data, labels, stratify=labels, train_size=0.8, random_state=0)\n",
        "data_train, data_val, labels_train, labels_val = train_test_split(\n",
        "    data_tv, labels_tv, stratify=labels_tv, train_size=0.9, random_state=0)\n",
        "\n",
        "len(data_train), len(data_val), len(data_test)"
      ],
      "metadata": {
        "colab": {
          "base_uri": "https://localhost:8080/"
        },
        "id": "taCRcD4k0066",
        "outputId": "009bae9e-47cf-414c-f2a3-2e0e35e1894d"
      },
      "execution_count": null,
      "outputs": [
        {
          "output_type": "execute_result",
          "data": {
            "text/plain": [
              "(4603, 512, 1279)"
            ]
          },
          "metadata": {},
          "execution_count": 15
        }
      ]
    },
    {
      "cell_type": "code",
      "source": [
        "def compute_rel_mix_frac(data_split):\n",
        "  ctr = collections.Counter()\n",
        "  for rec in data_split:\n",
        "    ctr[rec[\"r\"]] += 1\n",
        "  kv_dict, tot_v = {}, 0\n",
        "  for k, v in ctr.most_common(len(ctr)):\n",
        "    tot_v += v\n",
        "  for k, v in ctr.most_common(len(ctr)):\n",
        "    kv_dict[k] = v / tot_v\n",
        "  return kv_dict\n",
        "\n",
        "\n",
        "train_reltype_fracs = compute_rel_mix_frac(data_train)\n",
        "val_reltype_fracs = compute_rel_mix_frac(data_val)\n",
        "test_reltype_fracs = compute_rel_mix_frac(data_test)\n",
        "reltypes_df = pd.DataFrame([train_reltype_fracs, val_reltype_fracs, test_reltype_fracs],\n",
        "                           index=[\"train\", \"validation\", \"test\"],\n",
        "                           columns=sorted(list(set(labels))))\n",
        "reltypes_df.head()"
      ],
      "metadata": {
        "colab": {
          "base_uri": "https://localhost:8080/",
          "height": 143
        },
        "id": "RUK3AQSp2oxS",
        "outputId": "ad55e18c-2d81-4e76-a63e-68b201d0a49a"
      },
      "execution_count": null,
      "outputs": [
        {
          "output_type": "execute_result",
          "data": {
            "text/plain": [
              "             COMPARE  CONJUNCTION     COREF  EVALUATE-FOR  FEATURE-OF  \\\n",
              "train       0.036498     0.091028  0.262003      0.071041    0.041277   \n",
              "validation  0.037109     0.091797  0.261719      0.070312    0.041016   \n",
              "test        0.036747     0.091478  0.261923      0.071149    0.041439   \n",
              "\n",
              "            HYPONYM-OF   PART-OF  USED-FOR  \n",
              "train         0.074734  0.042146  0.381273  \n",
              "validation    0.074219  0.042969  0.380859  \n",
              "test          0.074277  0.042220  0.380766  "
            ],
            "text/html": [
              "\n",
              "  <div id=\"df-41d75165-a2d5-42a9-b9a0-cca96fd2e4d8\">\n",
              "    <div class=\"colab-df-container\">\n",
              "      <div>\n",
              "<style scoped>\n",
              "    .dataframe tbody tr th:only-of-type {\n",
              "        vertical-align: middle;\n",
              "    }\n",
              "\n",
              "    .dataframe tbody tr th {\n",
              "        vertical-align: top;\n",
              "    }\n",
              "\n",
              "    .dataframe thead th {\n",
              "        text-align: right;\n",
              "    }\n",
              "</style>\n",
              "<table border=\"1\" class=\"dataframe\">\n",
              "  <thead>\n",
              "    <tr style=\"text-align: right;\">\n",
              "      <th></th>\n",
              "      <th>COMPARE</th>\n",
              "      <th>CONJUNCTION</th>\n",
              "      <th>COREF</th>\n",
              "      <th>EVALUATE-FOR</th>\n",
              "      <th>FEATURE-OF</th>\n",
              "      <th>HYPONYM-OF</th>\n",
              "      <th>PART-OF</th>\n",
              "      <th>USED-FOR</th>\n",
              "    </tr>\n",
              "  </thead>\n",
              "  <tbody>\n",
              "    <tr>\n",
              "      <th>train</th>\n",
              "      <td>0.036498</td>\n",
              "      <td>0.091028</td>\n",
              "      <td>0.262003</td>\n",
              "      <td>0.071041</td>\n",
              "      <td>0.041277</td>\n",
              "      <td>0.074734</td>\n",
              "      <td>0.042146</td>\n",
              "      <td>0.381273</td>\n",
              "    </tr>\n",
              "    <tr>\n",
              "      <th>validation</th>\n",
              "      <td>0.037109</td>\n",
              "      <td>0.091797</td>\n",
              "      <td>0.261719</td>\n",
              "      <td>0.070312</td>\n",
              "      <td>0.041016</td>\n",
              "      <td>0.074219</td>\n",
              "      <td>0.042969</td>\n",
              "      <td>0.380859</td>\n",
              "    </tr>\n",
              "    <tr>\n",
              "      <th>test</th>\n",
              "      <td>0.036747</td>\n",
              "      <td>0.091478</td>\n",
              "      <td>0.261923</td>\n",
              "      <td>0.071149</td>\n",
              "      <td>0.041439</td>\n",
              "      <td>0.074277</td>\n",
              "      <td>0.042220</td>\n",
              "      <td>0.380766</td>\n",
              "    </tr>\n",
              "  </tbody>\n",
              "</table>\n",
              "</div>\n",
              "      <button class=\"colab-df-convert\" onclick=\"convertToInteractive('df-41d75165-a2d5-42a9-b9a0-cca96fd2e4d8')\"\n",
              "              title=\"Convert this dataframe to an interactive table.\"\n",
              "              style=\"display:none;\">\n",
              "        \n",
              "  <svg xmlns=\"http://www.w3.org/2000/svg\" height=\"24px\"viewBox=\"0 0 24 24\"\n",
              "       width=\"24px\">\n",
              "    <path d=\"M0 0h24v24H0V0z\" fill=\"none\"/>\n",
              "    <path d=\"M18.56 5.44l.94 2.06.94-2.06 2.06-.94-2.06-.94-.94-2.06-.94 2.06-2.06.94zm-11 1L8.5 8.5l.94-2.06 2.06-.94-2.06-.94L8.5 2.5l-.94 2.06-2.06.94zm10 10l.94 2.06.94-2.06 2.06-.94-2.06-.94-.94-2.06-.94 2.06-2.06.94z\"/><path d=\"M17.41 7.96l-1.37-1.37c-.4-.4-.92-.59-1.43-.59-.52 0-1.04.2-1.43.59L10.3 9.45l-7.72 7.72c-.78.78-.78 2.05 0 2.83L4 21.41c.39.39.9.59 1.41.59.51 0 1.02-.2 1.41-.59l7.78-7.78 2.81-2.81c.8-.78.8-2.07 0-2.86zM5.41 20L4 18.59l7.72-7.72 1.47 1.35L5.41 20z\"/>\n",
              "  </svg>\n",
              "      </button>\n",
              "      \n",
              "  <style>\n",
              "    .colab-df-container {\n",
              "      display:flex;\n",
              "      flex-wrap:wrap;\n",
              "      gap: 12px;\n",
              "    }\n",
              "\n",
              "    .colab-df-convert {\n",
              "      background-color: #E8F0FE;\n",
              "      border: none;\n",
              "      border-radius: 50%;\n",
              "      cursor: pointer;\n",
              "      display: none;\n",
              "      fill: #1967D2;\n",
              "      height: 32px;\n",
              "      padding: 0 0 0 0;\n",
              "      width: 32px;\n",
              "    }\n",
              "\n",
              "    .colab-df-convert:hover {\n",
              "      background-color: #E2EBFA;\n",
              "      box-shadow: 0px 1px 2px rgba(60, 64, 67, 0.3), 0px 1px 3px 1px rgba(60, 64, 67, 0.15);\n",
              "      fill: #174EA6;\n",
              "    }\n",
              "\n",
              "    [theme=dark] .colab-df-convert {\n",
              "      background-color: #3B4455;\n",
              "      fill: #D2E3FC;\n",
              "    }\n",
              "\n",
              "    [theme=dark] .colab-df-convert:hover {\n",
              "      background-color: #434B5C;\n",
              "      box-shadow: 0px 1px 3px 1px rgba(0, 0, 0, 0.15);\n",
              "      filter: drop-shadow(0px 1px 2px rgba(0, 0, 0, 0.3));\n",
              "      fill: #FFFFFF;\n",
              "    }\n",
              "  </style>\n",
              "\n",
              "      <script>\n",
              "        const buttonEl =\n",
              "          document.querySelector('#df-41d75165-a2d5-42a9-b9a0-cca96fd2e4d8 button.colab-df-convert');\n",
              "        buttonEl.style.display =\n",
              "          google.colab.kernel.accessAllowed ? 'block' : 'none';\n",
              "\n",
              "        async function convertToInteractive(key) {\n",
              "          const element = document.querySelector('#df-41d75165-a2d5-42a9-b9a0-cca96fd2e4d8');\n",
              "          const dataTable =\n",
              "            await google.colab.kernel.invokeFunction('convertToInteractive',\n",
              "                                                     [key], {});\n",
              "          if (!dataTable) return;\n",
              "\n",
              "          const docLinkHtml = 'Like what you see? Visit the ' +\n",
              "            '<a target=\"_blank\" href=https://colab.research.google.com/notebooks/data_table.ipynb>data table notebook</a>'\n",
              "            + ' to learn more about interactive tables.';\n",
              "          element.innerHTML = '';\n",
              "          dataTable['output_type'] = 'display_data';\n",
              "          await google.colab.output.renderOutput(dataTable, element);\n",
              "          const docLink = document.createElement('div');\n",
              "          docLink.innerHTML = docLinkHtml;\n",
              "          element.appendChild(docLink);\n",
              "        }\n",
              "      </script>\n",
              "    </div>\n",
              "  </div>\n",
              "  "
            ]
          },
          "metadata": {},
          "execution_count": 16
        }
      ]
    },
    {
      "cell_type": "markdown",
      "source": [
        "## Write out extracted dataset"
      ],
      "metadata": {
        "id": "qcf3VylE8LwW"
      }
    },
    {
      "cell_type": "code",
      "source": [
        "def write_data(data, file_path):\n",
        "  num_written = 0\n",
        "  with open(file_path, \"w\") as fout:\n",
        "    for rec in data:\n",
        "      fout.write(json.dumps(rec) + \"\\n\")\n",
        "      num_written += 1\n",
        "  return num_written\n",
        "\n",
        "num_train = write_data(data_train, os.path.join(DATA_DIR, \"train.jsonl\"))\n",
        "num_val = write_data(data_val, os.path.join(DATA_DIR, \"val.jsonl\"))\n",
        "test_val = write_data(data_test, os.path.join(DATA_DIR, \"test.jsonl\"))\n",
        "\n",
        "num_train, num_val, test_val"
      ],
      "metadata": {
        "colab": {
          "base_uri": "https://localhost:8080/"
        },
        "id": "xpDKLOVR3D6V",
        "outputId": "6d27bee4-b16e-4c0f-c436-7f61961aeee7"
      },
      "execution_count": null,
      "outputs": [
        {
          "output_type": "execute_result",
          "data": {
            "text/plain": [
              "(4603, 512, 1279)"
            ]
          },
          "metadata": {},
          "execution_count": 28
        }
      ]
    },
    {
      "cell_type": "code",
      "source": [
        ""
      ],
      "metadata": {
        "id": "Q5PvRJE4_uWl"
      },
      "execution_count": null,
      "outputs": []
    }
  ]
}